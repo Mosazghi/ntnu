{
 "cells": [
  {
   "cell_type": "markdown",
   "metadata": {},
   "source": [
    "# Sensordata fra Garmin løpeklokke"
   ]
  },
  {
   "cell_type": "markdown",
   "metadata": {},
   "source": [
    "Datasettet `garmindata.csv` har vi lastet ned fra en personlig brukerkonto på connect.garmin.com. Datasettet består av sensormålinger fra 56 løpeturer, f.eks. tid, avstand, høydemeter, stegfreksens og puls. I tillegg regner løpeklokkens programvare ut andre størrelser slik som estimert kaloriforbuk. Vi er hovedsakelig interresert i sammenhengen mellom *tid og distanse*. "
   ]
  },
  {
   "cell_type": "markdown",
   "metadata": {},
   "source": [
    "## Læringsmål: Korrelasjon og minste kvadratsums rette linje (regresjonslinje)\n",
    "\n",
    "### Delmål\n",
    "1. Laste inn og behandle et komplekst datasett\n",
    "2. Plotte kryssplott, identifisere og håndtere uteliggere\n",
    "3. Regne ut korrelasjon og regresjonslinje\n",
    "\n",
    "*Hva er relevant for tellende vurdering? Erfaringen med å håndtere datasett i Python får du nytte av i den tellende prosjektoppgaven, og i resten av utdanningen din. Du skal ikke skrive kode selv på eksamen, men du må kunne lese, tolke og forklare utskrift og plott fra ulike statistikk-beregninger i Python.*"
   ]
  },
  {
   "cell_type": "markdown",
   "metadata": {},
   "source": [
    "## Steg 1: Laste inn nødvendige python-pakker"
   ]
  },
  {
   "cell_type": "code",
   "execution_count": 1,
   "metadata": {},
   "outputs": [],
   "source": [
    "import pandas as pd # lese data fra csv-fil og bruke DataFrames\n",
    "import seaborn as sns # plotting\n",
    "sns.set(style = 'whitegrid', font_scale = 1.5) # utseende av plott\n",
    "import matplotlib.pyplot as plt # mer plotting\n",
    "import numpy as np # matematikk\n",
    "import statsmodels.api as sms # regresjonen\n",
    "import statsmodels.formula.api as smf # formel for regresjonen"
   ]
  },
  {
   "cell_type": "markdown",
   "metadata": {},
   "source": [
    "## Steg 2: Lese inn og behandle data"
   ]
  },
  {
   "cell_type": "code",
   "execution_count": 2,
   "metadata": {},
   "outputs": [
    {
     "data": {
      "text/plain": [
       "(56, 30)"
      ]
     },
     "execution_count": 2,
     "metadata": {},
     "output_type": "execute_result"
    }
   ],
   "source": [
    "df = pd.read_csv('https://www.math.ntnu.no/emner/IST100x/python_felles/garmindata.csv')\n",
    "df.shape # dimenensjonen til datasettet"
   ]
  },
  {
   "cell_type": "code",
   "execution_count": 3,
   "metadata": {},
   "outputs": [
    {
     "name": "stdout",
     "output_type": "stream",
     "text": [
      "Index(['Activity.Type', 'Date', 'Favorite', 'Title', 'Distance', 'Calories',\n",
      "       'Time', 'Avg.HR', 'Max.HR', 'Aerobic.TE', 'Avg.Run.Cadence',\n",
      "       'Max.Run.Cadence', 'Avg.Pace', 'Best.Pace', 'Elev.Gain', 'Elev.Loss',\n",
      "       'Avg.Stride.Length', 'Avg.Vertical.Ratio', 'Avg.Vertical.Oscillation',\n",
      "       'Training.Stress.Score.', 'Grit', 'Flow', 'Climb.Time', 'Bottom.Time',\n",
      "       'Min.Temp', 'Surface.Interval', 'Decompression', 'Best.Lap.Time',\n",
      "       'Number.of.Laps', 'Max.Temp'],\n",
      "      dtype='object')\n"
     ]
    }
   ],
   "source": [
    "print(df.columns) # Alle kolonnenavn"
   ]
  },
  {
   "cell_type": "code",
   "execution_count": 4,
   "metadata": {},
   "outputs": [
    {
     "name": "stderr",
     "output_type": "stream",
     "text": [
      "/tmp/ipykernel_34024/1926521589.py:5: FutureWarning: The default value of regex will change from True to False in a future version.\n",
      "  df.columns = df.columns.str.replace(\"[.]\", \"_\")\n"
     ]
    }
   ],
   "source": [
    "# Merk at en del kolonnenavn inneholder punktum\n",
    "# Dette er generelt uheldig når vi programmerer, så vi \n",
    "# erstatter alle punktum med underscore\n",
    "\n",
    "df.columns = df.columns.str.replace(\"[.]\", \"_\")"
   ]
  },
  {
   "cell_type": "code",
   "execution_count": 5,
   "metadata": {},
   "outputs": [
    {
     "data": {
      "text/html": [
       "<div>\n",
       "<style scoped>\n",
       "    .dataframe tbody tr th:only-of-type {\n",
       "        vertical-align: middle;\n",
       "    }\n",
       "\n",
       "    .dataframe tbody tr th {\n",
       "        vertical-align: top;\n",
       "    }\n",
       "\n",
       "    .dataframe thead th {\n",
       "        text-align: right;\n",
       "    }\n",
       "</style>\n",
       "<table border=\"1\" class=\"dataframe\">\n",
       "  <thead>\n",
       "    <tr style=\"text-align: right;\">\n",
       "      <th></th>\n",
       "      <th>Activity_Type</th>\n",
       "      <th>Date</th>\n",
       "      <th>Favorite</th>\n",
       "      <th>Title</th>\n",
       "      <th>Distance</th>\n",
       "      <th>Calories</th>\n",
       "      <th>Time</th>\n",
       "      <th>Avg_HR</th>\n",
       "      <th>Max_HR</th>\n",
       "      <th>Aerobic_TE</th>\n",
       "      <th>...</th>\n",
       "      <th>Grit</th>\n",
       "      <th>Flow</th>\n",
       "      <th>Climb_Time</th>\n",
       "      <th>Bottom_Time</th>\n",
       "      <th>Min_Temp</th>\n",
       "      <th>Surface_Interval</th>\n",
       "      <th>Decompression</th>\n",
       "      <th>Best_Lap_Time</th>\n",
       "      <th>Number_of_Laps</th>\n",
       "      <th>Max_Temp</th>\n",
       "    </tr>\n",
       "  </thead>\n",
       "  <tbody>\n",
       "    <tr>\n",
       "      <th>0</th>\n",
       "      <td>Running</td>\n",
       "      <td>2020-10-01 15:47:25</td>\n",
       "      <td>False</td>\n",
       "      <td>Trondheim Running</td>\n",
       "      <td>6.10</td>\n",
       "      <td>381</td>\n",
       "      <td>00:37:16</td>\n",
       "      <td>159</td>\n",
       "      <td>178</td>\n",
       "      <td>3.3</td>\n",
       "      <td>...</td>\n",
       "      <td>0</td>\n",
       "      <td>0</td>\n",
       "      <td>37:16</td>\n",
       "      <td>0:00</td>\n",
       "      <td>17</td>\n",
       "      <td>0:00</td>\n",
       "      <td>No</td>\n",
       "      <td>00:35.70</td>\n",
       "      <td>7</td>\n",
       "      <td>0</td>\n",
       "    </tr>\n",
       "    <tr>\n",
       "      <th>1</th>\n",
       "      <td>Running</td>\n",
       "      <td>2020-09-29 15:17:10</td>\n",
       "      <td>False</td>\n",
       "      <td>Trondheim Running</td>\n",
       "      <td>5.27</td>\n",
       "      <td>343</td>\n",
       "      <td>00:30:47</td>\n",
       "      <td>170</td>\n",
       "      <td>182</td>\n",
       "      <td>3.6</td>\n",
       "      <td>...</td>\n",
       "      <td>0</td>\n",
       "      <td>0</td>\n",
       "      <td>30:47</td>\n",
       "      <td>0:00</td>\n",
       "      <td>17</td>\n",
       "      <td>0:00</td>\n",
       "      <td>No</td>\n",
       "      <td>01:33.11</td>\n",
       "      <td>6</td>\n",
       "      <td>0</td>\n",
       "    </tr>\n",
       "    <tr>\n",
       "      <th>2</th>\n",
       "      <td>Running</td>\n",
       "      <td>2020-09-28 15:58:24</td>\n",
       "      <td>False</td>\n",
       "      <td>Trondheim Running</td>\n",
       "      <td>4.03</td>\n",
       "      <td>282</td>\n",
       "      <td>00:27:54</td>\n",
       "      <td>155</td>\n",
       "      <td>190</td>\n",
       "      <td>3.0</td>\n",
       "      <td>...</td>\n",
       "      <td>0</td>\n",
       "      <td>0</td>\n",
       "      <td>27:54</td>\n",
       "      <td>0:00</td>\n",
       "      <td>19</td>\n",
       "      <td>0:00</td>\n",
       "      <td>No</td>\n",
       "      <td>00:16.79</td>\n",
       "      <td>5</td>\n",
       "      <td>0</td>\n",
       "    </tr>\n",
       "    <tr>\n",
       "      <th>3</th>\n",
       "      <td>Running</td>\n",
       "      <td>2020-09-28 08:02:20</td>\n",
       "      <td>False</td>\n",
       "      <td>Trondheim Running</td>\n",
       "      <td>4.01</td>\n",
       "      <td>253</td>\n",
       "      <td>00:24:16</td>\n",
       "      <td>160</td>\n",
       "      <td>182</td>\n",
       "      <td>3.1</td>\n",
       "      <td>...</td>\n",
       "      <td>0</td>\n",
       "      <td>0</td>\n",
       "      <td>24:16</td>\n",
       "      <td>0:00</td>\n",
       "      <td>16</td>\n",
       "      <td>0:00</td>\n",
       "      <td>No</td>\n",
       "      <td>00:02.10</td>\n",
       "      <td>5</td>\n",
       "      <td>0</td>\n",
       "    </tr>\n",
       "    <tr>\n",
       "      <th>4</th>\n",
       "      <td>Running</td>\n",
       "      <td>2020-09-23 15:36:44</td>\n",
       "      <td>False</td>\n",
       "      <td>Trondheim Running</td>\n",
       "      <td>4.33</td>\n",
       "      <td>299</td>\n",
       "      <td>00:29:25</td>\n",
       "      <td>159</td>\n",
       "      <td>188</td>\n",
       "      <td>3.2</td>\n",
       "      <td>...</td>\n",
       "      <td>0</td>\n",
       "      <td>0</td>\n",
       "      <td>29:25</td>\n",
       "      <td>0:00</td>\n",
       "      <td>20</td>\n",
       "      <td>0:00</td>\n",
       "      <td>No</td>\n",
       "      <td>02:19.23</td>\n",
       "      <td>5</td>\n",
       "      <td>0</td>\n",
       "    </tr>\n",
       "  </tbody>\n",
       "</table>\n",
       "<p>5 rows × 30 columns</p>\n",
       "</div>"
      ],
      "text/plain": [
       "  Activity_Type                 Date  Favorite              Title  Distance  \\\n",
       "0       Running  2020-10-01 15:47:25     False  Trondheim Running      6.10   \n",
       "1       Running  2020-09-29 15:17:10     False  Trondheim Running      5.27   \n",
       "2       Running  2020-09-28 15:58:24     False  Trondheim Running      4.03   \n",
       "3       Running  2020-09-28 08:02:20     False  Trondheim Running      4.01   \n",
       "4       Running  2020-09-23 15:36:44     False  Trondheim Running      4.33   \n",
       "\n",
       "   Calories      Time  Avg_HR  Max_HR  Aerobic_TE  ...  Grit  Flow Climb_Time  \\\n",
       "0       381  00:37:16     159     178         3.3  ...     0     0      37:16   \n",
       "1       343  00:30:47     170     182         3.6  ...     0     0      30:47   \n",
       "2       282  00:27:54     155     190         3.0  ...     0     0      27:54   \n",
       "3       253  00:24:16     160     182         3.1  ...     0     0      24:16   \n",
       "4       299  00:29:25     159     188         3.2  ...     0     0      29:25   \n",
       "\n",
       "  Bottom_Time  Min_Temp  Surface_Interval  Decompression  Best_Lap_Time  \\\n",
       "0        0:00        17              0:00             No       00:35.70   \n",
       "1        0:00        17              0:00             No       01:33.11   \n",
       "2        0:00        19              0:00             No       00:16.79   \n",
       "3        0:00        16              0:00             No       00:02.10   \n",
       "4        0:00        20              0:00             No       02:19.23   \n",
       "\n",
       "   Number_of_Laps  Max_Temp  \n",
       "0               7         0  \n",
       "1               6         0  \n",
       "2               5         0  \n",
       "3               5         0  \n",
       "4               5         0  \n",
       "\n",
       "[5 rows x 30 columns]"
      ]
     },
     "execution_count": 5,
     "metadata": {},
     "output_type": "execute_result"
    }
   ],
   "source": [
    "df.head() # ser på de 5 første linjene i datasettet"
   ]
  },
  {
   "cell_type": "markdown",
   "metadata": {},
   "source": [
    "Merk at kolonnen 'Time' inneholder tid på formatet timer:minutter:sekunder. Dette må vi kode om til desimaltall, og det mest naturlige er å bruke minutter som enhet. "
   ]
  },
  {
   "cell_type": "code",
   "execution_count": 6,
   "metadata": {},
   "outputs": [],
   "source": [
    "# Vi lager oss en funksjon som koder fra timer:minutter:sekunder til minutter\n",
    "\n",
    "def get_min(time_str):\n",
    "    h, m, s = time_str.split(':')\n",
    "    return round(int(h)*60 + int(m) + int(s)/60 , 2)\n",
    "\n",
    "# Lager en TimeMin kolonne i datasettet\n",
    "df['TimeMin'] = df['Time'].apply(get_min)"
   ]
  },
  {
   "cell_type": "markdown",
   "metadata": {},
   "source": [
    "## Steg 2: Kryssplott og kvalitetskontroll\n",
    "\n",
    "Tabellen vi har lastet inn er for stor til at vi klarer å kvalitetssjekke observasjoner og få et inntrykk av dataene. Siden vi hovedsakelig er interessert i sammenhengen mellom *tid og distanse* plotter vi et kryssplott av disse observasjonene. "
   ]
  },
  {
   "cell_type": "code",
   "execution_count": 7,
   "metadata": {
    "scrolled": true
   },
   "outputs": [
    {
     "data": {
      "text/plain": [
       "Text(0.5, 21.444444444444443, 'Distanse [km]')"
      ]
     },
     "execution_count": 7,
     "metadata": {},
     "output_type": "execute_result"
    },
    {
     "data": {
      "image/png": "[encoded data removed]",
      "text/plain": [
       "<Figure size 500x500 with 1 Axes>"
      ]
     },
     "metadata": {},
     "output_type": "display_data"
    }
   ],
   "source": [
    "# Plotter tid mot distanse for å få et intrykk av datasettet\n",
    "\n",
    "sns.relplot(x='Distance', y='TimeMin',data = df)\n",
    "plt.xlim(0,10); plt.ylim(0,60)\n",
    "\n",
    "plt.ylabel('Tid [min]'); plt.xlabel('Distanse [km]')\n",
    "\n",
    "# Vi identifiserer en \"rar\" observasjon:\n",
    "# En løpetur på under 4 km som tok over 30 minutter!\n",
    "# Kanskje er dette en gåtur som har blit feilregistrert?"
   ]
  },
  {
   "cell_type": "code",
   "execution_count": 8,
   "metadata": {},
   "outputs": [
    {
     "data": {
      "text/plain": [
       "<Axes: ylabel='Hastighet'>"
      ]
     },
     "execution_count": 8,
     "metadata": {},
     "output_type": "execute_result"
    },
    {
     "data": {
      "image/png": "[encoded data removed]",
      "text/plain": [
       "<Figure size 640x480 with 1 Axes>"
      ]
     },
     "metadata": {},
     "output_type": "display_data"
    }
   ],
   "source": [
    "# Vi ser på observasjonene av gjennomsnittshastighet, Avg.Pace\n",
    "# tips: print(df.columns) kan brukes for å se på alle kolonnetitlene\n",
    "# Merk: Avg.Pace er skrevet i min:sek per kilometer\n",
    "# Vi lager oss derfor en ny kolonne med minutter som desimaltall\n",
    "def get_min2(time_str):\n",
    "    m, s = time_str.split(':')\n",
    "    return round(int(m) + int(s)/60 , 2)\n",
    "\n",
    "df['Hastighet'] = df['Avg_Pace'].apply(get_min2)\n",
    "\n",
    "# Plotter boksplott over hastighet\n",
    "sns.boxplot(y = 'Hastighet', data = df)\n",
    "\n",
    "# Her ser vi en klar uteligger! \n",
    "# En hastighet (min/km) på voer 9 minutter per kilometer betyr at dette var en \n",
    "# gåtur og hører ikke hjemme i løpe-tur datasettet"
   ]
  },
  {
   "cell_type": "code",
   "execution_count": 9,
   "metadata": {},
   "outputs": [
    {
     "data": {
      "text/plain": [
       "21"
      ]
     },
     "execution_count": 9,
     "metadata": {},
     "output_type": "execute_result"
    }
   ],
   "source": [
    "np.argmax(df['Hastighet']) # Hvilken index har uteliggeren?"
   ]
  },
  {
   "cell_type": "code",
   "execution_count": 10,
   "metadata": {},
   "outputs": [
    {
     "data": {
      "text/plain": [
       "Text(0.5, 21.444444444444443, 'Distanse [km]')"
      ]
     },
     "execution_count": 10,
     "metadata": {},
     "output_type": "execute_result"
    },
    {
     "data": {
      "image/png": "[encoded data removed]",
      "text/plain": [
       "<Figure size 500x500 with 1 Axes>"
      ]
     },
     "metadata": {},
     "output_type": "display_data"
    }
   ],
   "source": [
    "# Fjerner uteligger fra datasettet og lager det samme kryssplottet som før\n",
    "dfny = df.drop(21)\n",
    "sns.relplot(x='Distance', y='TimeMin',data = dfny)\n",
    "plt.xlim(0,10); plt.ylim(0,60)\n",
    "plt.ylabel('Tid [min]'); plt.xlabel('Distanse [km]')"
   ]
  },
  {
   "cell_type": "code",
   "execution_count": 11,
   "metadata": {},
   "outputs": [],
   "source": [
    "dfny.to_csv('garmindata2.csv',index = False)"
   ]
  },
  {
   "cell_type": "code",
   "execution_count": 12,
   "metadata": {},
   "outputs": [
    {
     "data": {
      "text/plain": [
       "(55, 32)"
      ]
     },
     "execution_count": 12,
     "metadata": {},
     "output_type": "execute_result"
    }
   ],
   "source": [
    "dfny.shape"
   ]
  },
  {
   "cell_type": "markdown",
   "metadata": {},
   "source": [
    "## Steg 3: Korrelasjon og regresjonslinje"
   ]
  },
  {
   "cell_type": "code",
   "execution_count": 13,
   "metadata": {},
   "outputs": [
    {
     "data": {
      "text/plain": [
       "0.263"
      ]
     },
     "execution_count": 13,
     "metadata": {},
     "output_type": "execute_result"
    }
   ],
   "source": [
    "# Regne ut korrelasjon (med Pandas)\n",
    "round(dfny['Avg_HR'].corr(dfny['Calories']),3)"
   ]
  },
  {
   "cell_type": "code",
   "execution_count": 14,
   "metadata": {},
   "outputs": [
    {
     "data": {
      "text/html": [
       "<table class=\"simpletable\">\n",
       "<caption>OLS Regression Results</caption>\n",
       "<tr>\n",
       "  <th>Dep. Variable:</th>        <td>Calories</td>     <th>  R-squared:         </th> <td>   0.069</td>\n",
       "</tr>\n",
       "<tr>\n",
       "  <th>Model:</th>                   <td>OLS</td>       <th>  Adj. R-squared:    </th> <td>   0.052</td>\n",
       "</tr>\n",
       "<tr>\n",
       "  <th>Method:</th>             <td>Least Squares</td>  <th>  F-statistic:       </th> <td>   3.934</td>\n",
       "</tr>\n",
       "<tr>\n",
       "  <th>Date:</th>             <td>Mon, 21 Aug 2023</td> <th>  Prob (F-statistic):</th>  <td>0.0525</td> \n",
       "</tr>\n",
       "<tr>\n",
       "  <th>Time:</th>                 <td>20:43:08</td>     <th>  Log-Likelihood:    </th> <td> -319.22</td>\n",
       "</tr>\n",
       "<tr>\n",
       "  <th>No. Observations:</th>      <td>    55</td>      <th>  AIC:               </th> <td>   642.4</td>\n",
       "</tr>\n",
       "<tr>\n",
       "  <th>Df Residuals:</th>          <td>    53</td>      <th>  BIC:               </th> <td>   646.5</td>\n",
       "</tr>\n",
       "<tr>\n",
       "  <th>Df Model:</th>              <td>     1</td>      <th>                     </th>     <td> </td>   \n",
       "</tr>\n",
       "<tr>\n",
       "  <th>Covariance Type:</th>      <td>nonrobust</td>    <th>                     </th>     <td> </td>   \n",
       "</tr>\n",
       "</table>\n",
       "<table class=\"simpletable\">\n",
       "<tr>\n",
       "      <td></td>         <th>coef</th>     <th>std err</th>      <th>t</th>      <th>P>|t|</th>  <th>[0.025</th>    <th>0.975]</th>  \n",
       "</tr>\n",
       "<tr>\n",
       "  <th>Intercept</th> <td> -296.8534</td> <td>  315.206</td> <td>   -0.942</td> <td> 0.351</td> <td> -929.077</td> <td>  335.370</td>\n",
       "</tr>\n",
       "<tr>\n",
       "  <th>Avg_HR</th>    <td>    3.8660</td> <td>    1.949</td> <td>    1.983</td> <td> 0.053</td> <td>   -0.043</td> <td>    7.775</td>\n",
       "</tr>\n",
       "</table>\n",
       "<table class=\"simpletable\">\n",
       "<tr>\n",
       "  <th>Omnibus:</th>       <td> 5.287</td> <th>  Durbin-Watson:     </th> <td>   1.148</td>\n",
       "</tr>\n",
       "<tr>\n",
       "  <th>Prob(Omnibus):</th> <td> 0.071</td> <th>  Jarque-Bera (JB):  </th> <td>   3.319</td>\n",
       "</tr>\n",
       "<tr>\n",
       "  <th>Skew:</th>          <td> 0.418</td> <th>  Prob(JB):          </th> <td>   0.190</td>\n",
       "</tr>\n",
       "<tr>\n",
       "  <th>Kurtosis:</th>      <td> 2.135</td> <th>  Cond. No.          </th> <td>4.62e+03</td>\n",
       "</tr>\n",
       "</table><br/><br/>Notes:<br/>[1] Standard Errors assume that the covariance matrix of the errors is correctly specified.<br/>[2] The condition number is large, 4.62e+03. This might indicate that there are<br/>strong multicollinearity or other numerical problems."
      ],
      "text/latex": [
       "\\begin{center}\n",
       "\\begin{tabular}{lclc}\n",
       "\\toprule\n",
       "\\textbf{Dep. Variable:}    &     Calories     & \\textbf{  R-squared:         } &     0.069   \\\\\n",
       "\\textbf{Model:}            &       OLS        & \\textbf{  Adj. R-squared:    } &     0.052   \\\\\n",
       "\\textbf{Method:}           &  Least Squares   & \\textbf{  F-statistic:       } &     3.934   \\\\\n",
       "\\textbf{Date:}             & Mon, 21 Aug 2023 & \\textbf{  Prob (F-statistic):} &   0.0525    \\\\\n",
       "\\textbf{Time:}             &     20:43:08     & \\textbf{  Log-Likelihood:    } &   -319.22   \\\\\n",
       "\\textbf{No. Observations:} &          55      & \\textbf{  AIC:               } &     642.4   \\\\\n",
       "\\textbf{Df Residuals:}     &          53      & \\textbf{  BIC:               } &     646.5   \\\\\n",
       "\\textbf{Df Model:}         &           1      & \\textbf{                     } &             \\\\\n",
       "\\textbf{Covariance Type:}  &    nonrobust     & \\textbf{                     } &             \\\\\n",
       "\\bottomrule\n",
       "\\end{tabular}\n",
       "\\begin{tabular}{lcccccc}\n",
       "                   & \\textbf{coef} & \\textbf{std err} & \\textbf{t} & \\textbf{P$> |$t$|$} & \\textbf{[0.025} & \\textbf{0.975]}  \\\\\n",
       "\\midrule\n",
       "\\textbf{Intercept} &    -296.8534  &      315.206     &    -0.942  &         0.351        &     -929.077    &      335.370     \\\\\n",
       "\\textbf{Avg\\_HR}   &       3.8660  &        1.949     &     1.983  &         0.053        &       -0.043    &        7.775     \\\\\n",
       "\\bottomrule\n",
       "\\end{tabular}\n",
       "\\begin{tabular}{lclc}\n",
       "\\textbf{Omnibus:}       &  5.287 & \\textbf{  Durbin-Watson:     } &    1.148  \\\\\n",
       "\\textbf{Prob(Omnibus):} &  0.071 & \\textbf{  Jarque-Bera (JB):  } &    3.319  \\\\\n",
       "\\textbf{Skew:}          &  0.418 & \\textbf{  Prob(JB):          } &    0.190  \\\\\n",
       "\\textbf{Kurtosis:}      &  2.135 & \\textbf{  Cond. No.          } & 4.62e+03  \\\\\n",
       "\\bottomrule\n",
       "\\end{tabular}\n",
       "%\\caption{OLS Regression Results}\n",
       "\\end{center}\n",
       "\n",
       "Notes: \\newline\n",
       " [1] Standard Errors assume that the covariance matrix of the errors is correctly specified. \\newline\n",
       " [2] The condition number is large, 4.62e+03. This might indicate that there are \\newline\n",
       " strong multicollinearity or other numerical problems."
      ],
      "text/plain": [
       "<class 'statsmodels.iolib.summary.Summary'>\n",
       "\"\"\"\n",
       "                            OLS Regression Results                            \n",
       "==============================================================================\n",
       "Dep. Variable:               Calories   R-squared:                       0.069\n",
       "Model:                            OLS   Adj. R-squared:                  0.052\n",
       "Method:                 Least Squares   F-statistic:                     3.934\n",
       "Date:                Mon, 21 Aug 2023   Prob (F-statistic):             0.0525\n",
       "Time:                        20:43:08   Log-Likelihood:                -319.22\n",
       "No. Observations:                  55   AIC:                             642.4\n",
       "Df Residuals:                      53   BIC:                             646.5\n",
       "Df Model:                           1                                         \n",
       "Covariance Type:            nonrobust                                         \n",
       "==============================================================================\n",
       "                 coef    std err          t      P>|t|      [0.025      0.975]\n",
       "------------------------------------------------------------------------------\n",
       "Intercept   -296.8534    315.206     -0.942      0.351    -929.077     335.370\n",
       "Avg_HR         3.8660      1.949      1.983      0.053      -0.043       7.775\n",
       "==============================================================================\n",
       "Omnibus:                        5.287   Durbin-Watson:                   1.148\n",
       "Prob(Omnibus):                  0.071   Jarque-Bera (JB):                3.319\n",
       "Skew:                           0.418   Prob(JB):                        0.190\n",
       "Kurtosis:                       2.135   Cond. No.                     4.62e+03\n",
       "==============================================================================\n",
       "\n",
       "Notes:\n",
       "[1] Standard Errors assume that the covariance matrix of the errors is correctly specified.\n",
       "[2] The condition number is large, 4.62e+03. This might indicate that there are\n",
       "strong multicollinearity or other numerical problems.\n",
       "\"\"\""
      ]
     },
     "execution_count": 14,
     "metadata": {},
     "output_type": "execute_result"
    }
   ],
   "source": [
    "# Regne ut regresjonslinja (minste kvadratsum) og skrive ut resultatet\n",
    "regresjon = smf.ols('Calories~Avg_HR', data = dfny).fit()\n",
    "regresjon.params"
   ]
  },
  {
   "cell_type": "code",
   "execution_count": 15,
   "metadata": {},
   "outputs": [
    {
     "data": {
      "image/png": "[encoded data removed]",
      "text/plain": [
       "<Figure size 500x500 with 1 Axes>"
      ]
     },
     "metadata": {},
     "output_type": "display_data"
    }
   ],
   "source": [
    "# Plotte observasjoner og regresjonslinje\n",
    "sns.lmplot(x = 'Distance', y = 'Calories', data = dfny, ci = None)\n",
    "plt.xlim(0,10); plt.ylim(0,60)  \n",
    "plt.ylabel('Tid [min]'); plt.xlabel('Distanse [km]')\n",
    "plt.savefig('plot4.png',bbox_inches='tight') \n"
   ]
  },
  {
   "cell_type": "markdown",
   "metadata": {},
   "source": [
    "## Bonus: illustrasjon av datasett med lavere korrelasjon"
   ]
  },
  {
   "cell_type": "code",
   "execution_count": 16,
   "metadata": {},
   "outputs": [
    {
     "data": {
      "text/plain": [
       "<seaborn.axisgrid.FacetGrid at 0x7f14e17b68d0>"
      ]
     },
     "execution_count": 16,
     "metadata": {},
     "output_type": "execute_result"
    },
    {
     "data": {
      "image/png": "[encoded data removed]",
      "text/plain": [
       "<Figure size 500x500 with 1 Axes>"
      ]
     },
     "metadata": {},
     "output_type": "display_data"
    }
   ],
   "source": [
    "sns.relplot(x='Elev_Gain', y='Calories',data = dfny, color = \"darkgreen\")"
   ]
  }
 ],
 "metadata": {
  "kernelspec": {
   "display_name": "Python 3 (ipykernel)",
   "language": "python",
   "name": "python3"
  },
  "language_info": {
   "codemirror_mode": {
    "name": "ipython",
    "version": 3
   },
   "file_extension": ".py",
   "mimetype": "text/x-python",
   "name": "python",
   "nbconvert_exporter": "python",
   "pygments_lexer": "ipython3",
   "version": "3.11.4"
  }
 },
 "nbformat": 4,
 "nbformat_minor": 4
}
